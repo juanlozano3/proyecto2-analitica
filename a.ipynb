{
 "cells": [
  {
   "cell_type": "code",
   "execution_count": null,
   "id": "caac0bf5",
   "metadata": {},
   "outputs": [],
   "source": [
    "from ydata_profiling import ProfileReport\n",
    "import pandas as pd\n",
    "\n",
    "df=pd.read_csv(\"10ee9a62-5fac-430a-92df-6526ebc6a38f.csv\", sep=\",\", encoding=\"latin-1\")\n",
    "profile = ProfileReport(df, title=\"Exploración de los datos post limpieza\")\n",
    "profile.to_file(\"reporte inicial.html\")"
   ]
  }
 ],
 "metadata": {
  "language_info": {
   "name": "python"
  }
 },
 "nbformat": 4,
 "nbformat_minor": 5
}
